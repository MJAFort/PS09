{
 "metadata": {
  "name": "",
  "signature": "sha256:6467052c3adb45b27c789d2893b3aeaae833991fe66f15ccba4f0f062c99b39b"
 },
 "nbformat": 3,
 "nbformat_minor": 0,
 "worksheets": [
  {
   "cells": [
    {
     "cell_type": "code",
     "collapsed": false,
     "input": [
      "from scipy.io import wavfile\n",
      "import numpy as np\n",
      "import matplotlib.pyplot as mplib\n",
      "import thinkdsp\n",
      "from array import array\n",
      "from itertools import chain, repeat\n",
      "\n",
      "\n",
      "# This function converts a string into a numpy array of bits\n",
      "# note that it is assumed that each character is 7 bits long here\n",
      "def string2NPArray(s):\n",
      "    bits = np.array([])\n",
      "    for a in bytearray(s, 'ascii'):\n",
      "        for b in range(0,7):\n",
      "            bits = np.append(bits,float((a>>(7-b-1))&1))\n",
      "    return bits\n",
      "\n",
      "# This function converts a numpy array of bits to a string\n",
      "# note that it is assumed that each character is 7 bits long here\n",
      "def NPbits2String(bits):\n",
      "    S = \"\"\n",
      "    for a in np.arange(0, np.ceil(len(bits)/7)):\n",
      "        tmp = 0\n",
      "        for k in np.arange(0,7):\n",
      "            b = bits[a*7+k]\n",
      "            tmp = tmp + (2**(6-k))*b\n",
      "        S = S + chr(int(tmp))\n",
      "    return S\n",
      "\n",
      "# this function is used to help convert numpy array data into a format\n",
      "# suitable for writing into a wave file\n",
      "def convert_to_int16(sig):\n",
      "    # convert into int16  to write as wave\n",
      "    sig = (sig/np.max(sig))*(2**14)\n",
      "    sig = sig.astype('int16')\n",
      "    return sig\n",
      "\n",
      "#def convert_to_bipolar_bitstream(bits,symbol_len):\n",
      "#    bipolar = [2*bit-1 for bit in (bits)]\n",
      "#     extended = [x for item in l for x in repeat(item, symbol_len)]\n",
      "#    extended = list(chain.from_iterable(repeat(e, symbol_len) for e in bipolar))\n",
      "#   return extended\n",
      "\n",
      "def convert_to_bipolar_bitstream(bits,symbol_len):\n",
      "    bipolar = [2*bit-1 for bit in (bits)]\n",
      "#     extended = [x for item in l for x in repeat(item, symbol_len)]\n",
      "    extended = list(chain.from_iterable(repeat(e, symbol_len) for e in bipolar))\n",
      "    zero_pad = list(repeat(0, symbol_len)).append(1).append(extended).append(list(repeat(0, symbol_len)))\n",
      "    return zero_pad\n",
      "\n",
      "    \n",
      "#bits is the converted string in binary, not yet bipolar bit stream\n",
      "#symbol_len is the length of the signal (250)\n",
      "# rate is sampling rate (8820)\n",
      "# frequency is the frequency of cosines (1000)\n",
      "def generate_bpsk_signal(bits, rate, symbol_len, freq):\n",
      "    stream = convert_to_bipolar_bitstream(bits)\n",
      "    sig = stream*cos(freq)\n",
      "    \n",
      "    \n",
      "    \n",
      "\n"
     ],
     "language": "python",
     "metadata": {},
     "outputs": [],
     "prompt_number": 8
    },
    {
     "cell_type": "code",
     "collapsed": false,
     "input": [
      "from scipy.io import wavfile\n",
      "import numpy as np\n",
      "import matplotlib.pyplot as mplib\n",
      "import thinkdsp\n",
      "from array import array\n",
      "\n",
      "\n",
      "def decode_bpsk_signal(signal, freq=1000, rate = 8820, symbol_len = 250, detection_threshold_factor = 0.4, LPFbw = 320):\n",
      "    ##Don't forget phase shift\n",
      "    demod = signal*cos(freq)\n",
      "    demod_wav = demod.make_wave()\n",
      "    spec = demod_wav.make_spectrum()"
     ],
     "language": "python",
     "metadata": {},
     "outputs": [
      {
       "ename": "TypeError",
       "evalue": "unsupported operand type(s) for -: 'list' and 'int'",
       "output_type": "pyerr",
       "traceback": [
        "\u001b[1;31m---------------------------------------------------------------------------\u001b[0m\n\u001b[1;31mTypeError\u001b[0m                                 Traceback (most recent call last)",
        "\u001b[1;32m<ipython-input-13-9067b3e6c6d4>\u001b[0m in \u001b[0;36m<module>\u001b[1;34m()\u001b[0m\n\u001b[1;32m----> 1\u001b[1;33m \u001b[0mnp\u001b[0m\u001b[1;33m.\u001b[0m\u001b[0marange\u001b[0m\u001b[1;33m(\u001b[0m\u001b[0mconvert_to_bipolar_bitstream\u001b[0m\u001b[1;33m(\u001b[0m\u001b[1;33m[\u001b[0m\u001b[1;36m0\u001b[0m\u001b[1;33m,\u001b[0m\u001b[1;36m1\u001b[0m\u001b[1;33m,\u001b[0m\u001b[1;36m0\u001b[0m\u001b[1;33m]\u001b[0m\u001b[1;33m,\u001b[0m\u001b[1;36m250\u001b[0m\u001b[1;33m)\u001b[0m\u001b[1;33m)\u001b[0m\u001b[1;33m\u001b[0m\u001b[0m\n\u001b[0m",
        "\u001b[1;31mTypeError\u001b[0m: unsupported operand type(s) for -: 'list' and 'int'"
       ]
      }
     ],
     "prompt_number": 13
    },
    {
     "cell_type": "code",
     "collapsed": false,
     "input": [],
     "language": "python",
     "metadata": {},
     "outputs": []
    }
   ],
   "metadata": {}
  }
 ]
}