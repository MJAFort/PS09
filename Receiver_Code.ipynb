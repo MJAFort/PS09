{
 "metadata": {
  "name": "",
  "signature": "sha256:6cef45a1c42b6f4b97cf2fa5e50d43b7af2c383ac27441f2c4d0849ecd4992a4"
 },
 "nbformat": 3,
 "nbformat_minor": 0,
 "worksheets": [
  {
   "cells": [
    {
     "cell_type": "code",
     "collapsed": false,
     "input": [
      "from scipy.io import wavfile\n",
      "import numpy as np\n",
      "import matplotlib.pyplot as mplib\n",
      "import thinkdsp\n",
      "from array import array\n",
      "import thinkplot"
     ],
     "language": "python",
     "metadata": {},
     "outputs": [],
     "prompt_number": 62
    },
    {
     "cell_type": "code",
     "collapsed": false,
     "input": [
      "# This function converts a string into a numpy array of bits\n",
      "# note that it is assumed that each character is 7 bits long here\n",
      "def string2NPArray(s):\n",
      "    bits = np.array([])\n",
      "    for a in bytearray(s, 'ascii'):\n",
      "        for b in range(0,7):\n",
      "            bits = np.append(bits,float((a>>(7-b-1))&1))\n",
      "    return bits"
     ],
     "language": "python",
     "metadata": {},
     "outputs": [],
     "prompt_number": 63
    },
    {
     "cell_type": "code",
     "collapsed": false,
     "input": [
      "# This function converts a numpy array of bits to a string\n",
      "# note that it is assumed that each character is 7 bits long here\n",
      "def NPbits2String(bits):\n",
      "    S = \"\"\n",
      "    for a in np.arange(0, np.ceil(len(bits)/7)):\n",
      "        tmp = 0\n",
      "        for k in np.arange(0,7):\n",
      "            b = bits[a*7+k]\n",
      "            tmp = tmp + (2**(6-k))*b\n",
      "        S = S + chr(int(tmp))\n",
      "    return S"
     ],
     "language": "python",
     "metadata": {},
     "outputs": [],
     "prompt_number": 64
    },
    {
     "cell_type": "code",
     "collapsed": false,
     "input": [
      "# this function is used to help convert numpy array data into a format\n",
      "# suitable for writing into a wave file\n",
      "def convert_to_int16(sig):\n",
      "    # convert into int16  to write as wave\n",
      "    sig = (sig/np.max(sig))*(2**14)\n",
      "    sig = sig.astype('int16')\n",
      "    return sig"
     ],
     "language": "python",
     "metadata": {},
     "outputs": [],
     "prompt_number": 65
    },
    {
     "cell_type": "code",
     "collapsed": false,
     "input": [
      "def find_start_and_end(xf, threshold = 2000): \n",
      "    import numpy as np    \n",
      "    start_idx = -1\n",
      " \n",
      "    for k in range(0, len(xf)):\n",
      "        if(np.abs(xf[k])) > threshold:\n",
      "            start_idx = k\n",
      "            break\n",
      "\n",
      "    if(start_idx  < 0):\n",
      "        print \"Unable to detect start of transmission\"\n",
      "        return -1\n",
      "    \n",
      "    end_idx = -1\n",
      "    \n",
      "    for k in range(0, len(xf)):\n",
      "        if(np.abs(xf[len(xf)-k-1])) > threshold:\n",
      "            end_idx = len(xf)-k-1\n",
      "            break\n",
      "\n",
      "    if(end_idx < 0):\n",
      "        print \"Unable to detect end of transmission\"\n",
      "        return -1\n",
      "\n",
      "    return start_idx, end_idx"
     ],
     "language": "python",
     "metadata": {},
     "outputs": [],
     "prompt_number": 76
    },
    {
     "cell_type": "code",
     "collapsed": false,
     "input": [
      "wave = thinkdsp.read_wave('AcousticModemTx.wav')\n",
      "wave.normalize()\n",
      "wave.make_audio()"
     ],
     "language": "python",
     "metadata": {},
     "outputs": [
      {
       "html": [
        "\n",
        "                <audio controls=\"controls\" >\n",
        "                    <source src=\"data:audio/wav;base64,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\" type=\"audio/wav\" />\n",
        "                    Your browser does not support the audio element.\n",
        "                </audio>\n",
        "              "
       ],
       "metadata": {},
       "output_type": "pyout",
       "prompt_number": 77,
       "text": [
        "<IPython.lib.display.Audio at 0x131049d0>"
       ]
      }
     ],
     "prompt_number": 77
    },
    {
     "cell_type": "code",
     "collapsed": false,
     "input": [
      "fs, sig = wavfile.read('AcousticModemRxTest.wav')\n",
      "xf = sig\n",
      "start_idx, end_idx = find_start_and_end(xf, threshold = 3000)\n",
      "print start_idx, end_idx\n",
      "print len(xf)"
     ],
     "language": "python",
     "metadata": {},
     "outputs": [
      {
       "output_type": "stream",
       "stream": "stdout",
       "text": [
        "14314 23314\n",
        "88667\n"
       ]
      }
     ],
     "prompt_number": 100
    },
    {
     "cell_type": "code",
     "collapsed": false,
     "input": [
      "xf = xf[start_idx:end_idx]\n",
      "print len(xf)"
     ],
     "language": "python",
     "metadata": {},
     "outputs": [
      {
       "output_type": "stream",
       "stream": "stdout",
       "text": [
        "0\n"
       ]
      }
     ],
     "prompt_number": 102
    },
    {
     "cell_type": "code",
     "collapsed": false,
     "input": [
      "\n"
     ],
     "language": "python",
     "metadata": {},
     "outputs": [],
     "prompt_number": 102
    },
    {
     "cell_type": "code",
     "collapsed": false,
     "input": [
      "# create a vector of the sampling times\n",
      "ts = np.arange(0, float(len(sig))/float(fs), 1.0/fs)\n",
      "\n",
      "# create a vector of frequencies\n",
      "freqs = np.linspace(-np.pi*fs, np.pi*fs*(float(len(sig))-1)/float(len(sig)), len(sig))\n"
     ],
     "language": "python",
     "metadata": {},
     "outputs": [],
     "prompt_number": 103
    },
    {
     "cell_type": "code",
     "collapsed": false,
     "input": [
      "f1 = 1000\n",
      "Wc = 500\n",
      "# this is a vector of the sampling times for the signal\n",
      "ts = np.arange(0, len(sig)*1/float(fs), 1/float(fs))\n",
      "# make a new vector of sampling times for the low-pass filter\n",
      "# it doesn't need to be as long as the signal vector as most\n",
      "# of the energy of the sinc function is concentrated around zero\n",
      "ts_filt = np.arange(-64*1/float(fs),63*1/float(fs),1/float(fs))\n",
      "filt = np.sinc(ts_filt/np.pi*Wc*2*np.pi)\n",
      "\n",
      "sig1_demod = sig*np.cos(2*np.pi*f1*ts)\n",
      "sig1_demod = np.convolve(sig1_demod, filt)\n",
      "\n"
     ],
     "language": "python",
     "metadata": {},
     "outputs": [],
     "prompt_number": 104
    },
    {
     "cell_type": "code",
     "collapsed": false,
     "input": [
      "thinkdsp.normalize(sig1_demod)\n",
      "thinkplot.plot(sig1_demod)\n",
      "thinkplot.show()"
     ],
     "language": "python",
     "metadata": {},
     "outputs": [],
     "prompt_number": 108
    },
    {
     "cell_type": "code",
     "collapsed": false,
     "input": [
      "rate = fs\n",
      "sym_length = 250\n",
      "sym_time = rate/sym_length\n",
      "print sym_time"
     ],
     "language": "python",
     "metadata": {},
     "outputs": [
      {
       "output_type": "stream",
       "stream": "stdout",
       "text": [
        "35\n"
       ]
      }
     ],
     "prompt_number": 99
    },
    {
     "cell_type": "code",
     "collapsed": false,
     "input": [
      "start_idx, end_idx = find_start_and_end(sig1_demod, threshold = 3000)\n",
      "print start_idx, end_idx"
     ],
     "language": "python",
     "metadata": {},
     "outputs": [
      {
       "output_type": "stream",
       "stream": "stdout",
       "text": [
        "14373 23463\n"
       ]
      }
     ],
     "prompt_number": 107
    },
    {
     "cell_type": "code",
     "collapsed": false,
     "input": [
      "sig1_demod = sig1_demod[start_idx: end_idx]\n",
      "print type(sig1_demod)\n",
      "print len(ts[start_idx:end_idx]), len[sig1_demod)\n",
      "mplib.plot(ts[start_idx:end_idx], sig1_demod)\n",
      "\n"
     ],
     "language": "python",
     "metadata": {},
     "outputs": [
      {
       "output_type": "stream",
       "stream": "stdout",
       "text": [
        "<type 'numpy.ndarray'>\n",
        "9090"
       ]
      },
      {
       "ename": "TypeError",
       "evalue": "'builtin_function_or_method' object has no attribute '__getitem__'",
       "output_type": "pyerr",
       "traceback": [
        "\u001b[1;31m---------------------------------------------------------------------------\u001b[0m\n\u001b[1;31mTypeError\u001b[0m                                 Traceback (most recent call last)",
        "\u001b[1;32m<ipython-input-119-1a6288a445c5>\u001b[0m in \u001b[0;36m<module>\u001b[1;34m()\u001b[0m\n\u001b[0;32m      1\u001b[0m \u001b[0msig1_demod\u001b[0m \u001b[1;33m=\u001b[0m \u001b[0msig1_demod\u001b[0m\u001b[1;33m[\u001b[0m\u001b[0mstart_idx\u001b[0m\u001b[1;33m:\u001b[0m \u001b[0mend_idx\u001b[0m\u001b[1;33m]\u001b[0m\u001b[1;33m\u001b[0m\u001b[0m\n\u001b[0;32m      2\u001b[0m \u001b[1;32mprint\u001b[0m \u001b[0mtype\u001b[0m\u001b[1;33m(\u001b[0m\u001b[0msig1_demod\u001b[0m\u001b[1;33m)\u001b[0m\u001b[1;33m\u001b[0m\u001b[0m\n\u001b[1;32m----> 3\u001b[1;33m \u001b[1;32mprint\u001b[0m \u001b[0mlen\u001b[0m\u001b[1;33m(\u001b[0m\u001b[0mts\u001b[0m\u001b[1;33m[\u001b[0m\u001b[0mstart_idx\u001b[0m\u001b[1;33m:\u001b[0m\u001b[0mend_idx\u001b[0m\u001b[1;33m]\u001b[0m\u001b[1;33m)\u001b[0m\u001b[1;33m,\u001b[0m \u001b[0mlen\u001b[0m\u001b[1;33m[\u001b[0m\u001b[0msig1_demod\u001b[0m\u001b[1;33m]\u001b[0m\u001b[1;33m\u001b[0m\u001b[0m\n\u001b[0m\u001b[0;32m      4\u001b[0m \u001b[0mmplib\u001b[0m\u001b[1;33m.\u001b[0m\u001b[0mplot\u001b[0m\u001b[1;33m(\u001b[0m\u001b[0mts\u001b[0m\u001b[1;33m[\u001b[0m\u001b[0mstart_idx\u001b[0m\u001b[1;33m:\u001b[0m\u001b[0mend_idx\u001b[0m\u001b[1;33m]\u001b[0m\u001b[1;33m,\u001b[0m \u001b[0msig1_demod\u001b[0m\u001b[1;33m)\u001b[0m\u001b[1;33m\u001b[0m\u001b[0m\n\u001b[0;32m      5\u001b[0m \u001b[1;33m\u001b[0m\u001b[0m\n",
        "\u001b[1;31mTypeError\u001b[0m: 'builtin_function_or_method' object has no attribute '__getitem__'"
       ]
      }
     ],
     "prompt_number": 119
    },
    {
     "cell_type": "code",
     "collapsed": false,
     "input": [],
     "language": "python",
     "metadata": {},
     "outputs": []
    }
   ],
   "metadata": {}
  }
 ]
}